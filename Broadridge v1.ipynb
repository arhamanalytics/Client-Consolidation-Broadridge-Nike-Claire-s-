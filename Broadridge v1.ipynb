{
 "cells": [
  {
   "cell_type": "code",
   "execution_count": 1,
   "id": "410a3947",
   "metadata": {},
   "outputs": [],
   "source": [
    "from pathlib import Path\n",
    "import pandas as pd"
   ]
  },
  {
   "cell_type": "code",
   "execution_count": 4,
   "id": "a179c381",
   "metadata": {},
   "outputs": [
    {
     "data": {
      "text/plain": [
       "[WindowsPath(\"Z:/Private/arham.anwar/Broadridge_iPAT Extract_Jul'20 - Jun'21/PBI_Pkg_20200701-20200731.csv\"),\n",
       " WindowsPath(\"Z:/Private/arham.anwar/Broadridge_iPAT Extract_Jul'20 - Jun'21/PBI_Pkg_20200801-20200831.csv\"),\n",
       " WindowsPath(\"Z:/Private/arham.anwar/Broadridge_iPAT Extract_Jul'20 - Jun'21/PBI_Pkg_20200901-20200930.csv\"),\n",
       " WindowsPath(\"Z:/Private/arham.anwar/Broadridge_iPAT Extract_Jul'20 - Jun'21/PBI_Pkg_20201001-20201031.csv\"),\n",
       " WindowsPath(\"Z:/Private/arham.anwar/Broadridge_iPAT Extract_Jul'20 - Jun'21/PBI_Pkg_20201101-20201130.csv\"),\n",
       " WindowsPath(\"Z:/Private/arham.anwar/Broadridge_iPAT Extract_Jul'20 - Jun'21/PBI_Pkg_20201201-20201231.csv\"),\n",
       " WindowsPath(\"Z:/Private/arham.anwar/Broadridge_iPAT Extract_Jul'20 - Jun'21/PBI_Pkg_20210101-20210131.csv\"),\n",
       " WindowsPath(\"Z:/Private/arham.anwar/Broadridge_iPAT Extract_Jul'20 - Jun'21/PBI_Pkg_20210201-20210228.csv\"),\n",
       " WindowsPath(\"Z:/Private/arham.anwar/Broadridge_iPAT Extract_Jul'20 - Jun'21/PBI_Pkg_20210301-20210331.csv\"),\n",
       " WindowsPath(\"Z:/Private/arham.anwar/Broadridge_iPAT Extract_Jul'20 - Jun'21/PBI_Pkg_20210401-20210430.csv\"),\n",
       " WindowsPath(\"Z:/Private/arham.anwar/Broadridge_iPAT Extract_Jul'20 - Jun'21/PBI_Pkg_20210501-20210531.csv\"),\n",
       " WindowsPath(\"Z:/Private/arham.anwar/Broadridge_iPAT Extract_Jul'20 - Jun'21/PBI_Pkg_20210601-20210630.csv\")]"
      ]
     },
     "execution_count": 4,
     "metadata": {},
     "output_type": "execute_result"
    }
   ],
   "source": [
    "#ignore this cell\n",
    "my_path = r\"Z:\\Private\\arham.anwar\\Broadridge_iPAT Extract_Jul'20 - Jun'21\" \n",
    "#path to where the excel files are.\n",
    "# glob uses a wild match to find all excels within a certain folder/location.\n",
    "xls = [x for x in Path(my_path).glob('*.csv')] \n",
    "xls"
   ]
  },
  {
   "cell_type": "code",
   "execution_count": 9,
   "id": "e644473f",
   "metadata": {},
   "outputs": [
    {
     "name": "stderr",
     "output_type": "stream",
     "text": [
      "C:\\Users\\Arham\\AppData\\Local\\Temp/ipykernel_13940/3017644245.py:3: DtypeWarning: Columns (50,51,52) have mixed types.Specify dtype option on import or set low_memory=False.\n",
      "  dfs = [pd.read_csv(f) for f in Path(path_).glob('*.csv')]\n",
      "C:\\Users\\Arham\\AppData\\Local\\Temp/ipykernel_13940/3017644245.py:3: DtypeWarning: Columns (51,52) have mixed types.Specify dtype option on import or set low_memory=False.\n",
      "  dfs = [pd.read_csv(f) for f in Path(path_).glob('*.csv')]\n",
      "C:\\Users\\Arham\\AppData\\Local\\Temp/ipykernel_13940/3017644245.py:3: DtypeWarning: Columns (52) have mixed types.Specify dtype option on import or set low_memory=False.\n",
      "  dfs = [pd.read_csv(f) for f in Path(path_).glob('*.csv')]\n",
      "C:\\Users\\Arham\\AppData\\Local\\Temp/ipykernel_13940/3017644245.py:3: DtypeWarning: Columns (25,50,51,52) have mixed types.Specify dtype option on import or set low_memory=False.\n",
      "  dfs = [pd.read_csv(f) for f in Path(path_).glob('*.csv')]\n"
     ]
    }
   ],
   "source": [
    "path_ = r\"Z:\\Private\\arham.anwar\\Broadridge_iPAT Extract_Jul'20 - Jun'21\"\n",
    "\n",
    "dfs = [pd.read_csv(f) for f in Path(path_).glob('*.csv')]\n",
    "\n",
    "df = pd.concat(dfs)"
   ]
  },
  {
   "cell_type": "code",
   "execution_count": 10,
   "id": "1499cb47",
   "metadata": {},
   "outputs": [],
   "source": [
    "df.to_csv('Broadridge_firstpass.csv')"
   ]
  },
  {
   "cell_type": "code",
   "execution_count": null,
   "id": "0df4a30f",
   "metadata": {},
   "outputs": [],
   "source": []
  }
 ],
 "metadata": {
  "kernelspec": {
   "display_name": "Python 3 (ipykernel)",
   "language": "python",
   "name": "python3"
  },
  "language_info": {
   "codemirror_mode": {
    "name": "ipython",
    "version": 3
   },
   "file_extension": ".py",
   "mimetype": "text/x-python",
   "name": "python",
   "nbconvert_exporter": "python",
   "pygments_lexer": "ipython3",
   "version": "3.9.7"
  }
 },
 "nbformat": 4,
 "nbformat_minor": 5
}
