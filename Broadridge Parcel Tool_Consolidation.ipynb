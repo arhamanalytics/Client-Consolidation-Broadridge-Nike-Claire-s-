{
 "cells": [
  {
   "cell_type": "code",
   "execution_count": 25,
   "id": "d51bad06",
   "metadata": {},
   "outputs": [],
   "source": [
    "# Download Packages\n",
    "import pandas as pd\n",
    "import glob\n",
    "\n",
    "filename = 'Broadridge UPS Consolidated_csv1.xlsx'"
   ]
  },
  {
   "cell_type": "code",
   "execution_count": 26,
   "id": "f9695bc4",
   "metadata": {},
   "outputs": [],
   "source": [
    "# Function to consolidate Files\n",
    "def raw_input_consolidation(files, output_file=filename):\n",
    "    df_list = []\n",
    "    for f in files:\n",
    "        print(f)\n",
    "        df = pd.read_csv(f,header=0,encoding='latin-1')\n",
    "        df_list.append(df)\n",
    "\n",
    "\n",
    "    consolidated_df = pd.concat(df_list, sort=False)\n",
    "        \n",
    "           \n",
    "    print(\"consolidated_df shape-\", consolidated_df.shape)\n",
    "    #consolidated_df.to_excel(output_file, index=False)\n",
    "    #print(\"consolidated file saved at - \", output_file)\n",
    "   \n",
    "    return consolidated_df\n"
   ]
  },
  {
   "cell_type": "code",
   "execution_count": null,
   "id": "039bbb81",
   "metadata": {},
   "outputs": [],
   "source": []
  },
  {
   "cell_type": "code",
   "execution_count": 27,
   "id": "c3cb7053",
   "metadata": {},
   "outputs": [
    {
     "name": "stdout",
     "output_type": "stream",
     "text": [
      "Z:\\Private\\arham.anwar\\Parcel Tool\\UPS 1\\Invoice_00000711AV_010221.csv\n"
     ]
    },
    {
     "name": "stderr",
     "output_type": "stream",
     "text": [
      "C:\\Users\\Arham\\AppData\\Local\\Temp/ipykernel_10076/2798089474.py:6: DtypeWarning: Columns (16,22,23,24,38,64,72,82,83,84,85,86,87,88,89,177,225,226) have mixed types.Specify dtype option on import or set low_memory=False.\n",
      "  df_Files_Latest = raw_input_consolidation(Files_Latest, output_file)\n"
     ]
    },
    {
     "name": "stdout",
     "output_type": "stream",
     "text": [
      "Z:\\Private\\arham.anwar\\Parcel Tool\\UPS 1\\Invoice_00000711AV_010921.csv\n"
     ]
    },
    {
     "name": "stderr",
     "output_type": "stream",
     "text": [
      "C:\\Users\\Arham\\AppData\\Local\\Temp/ipykernel_10076/2798089474.py:6: DtypeWarning: Columns (23,24,38,64,82,83,84,85,86,87,88,89,104,106,225,226) have mixed types.Specify dtype option on import or set low_memory=False.\n",
      "  df_Files_Latest = raw_input_consolidation(Files_Latest, output_file)\n"
     ]
    },
    {
     "name": "stdout",
     "output_type": "stream",
     "text": [
      "Z:\\Private\\arham.anwar\\Parcel Tool\\UPS 1\\Invoice_00000711AV_011621.csv\n"
     ]
    },
    {
     "name": "stderr",
     "output_type": "stream",
     "text": [
      "C:\\Users\\Arham\\AppData\\Local\\Temp/ipykernel_10076/2798089474.py:6: DtypeWarning: Columns (23,24,25,32,38,64,67,68,69,70,71,72,73,80,82,83,84,85,86,87,88,89,128,174,175,176,195,200,225,226) have mixed types.Specify dtype option on import or set low_memory=False.\n",
      "  df_Files_Latest = raw_input_consolidation(Files_Latest, output_file)\n"
     ]
    },
    {
     "name": "stdout",
     "output_type": "stream",
     "text": [
      "Z:\\Private\\arham.anwar\\Parcel Tool\\UPS 1\\Invoice_00000711AV_012321.csv\n"
     ]
    },
    {
     "name": "stderr",
     "output_type": "stream",
     "text": [
      "C:\\Users\\Arham\\AppData\\Local\\Temp/ipykernel_10076/2798089474.py:6: DtypeWarning: Columns (23,24,25,32,38,64,67,68,69,70,71,72,73,80,82,83,84,85,86,87,88,89,104,106,128,174,175,176,195,200,225,226) have mixed types.Specify dtype option on import or set low_memory=False.\n",
      "  df_Files_Latest = raw_input_consolidation(Files_Latest, output_file)\n"
     ]
    },
    {
     "name": "stdout",
     "output_type": "stream",
     "text": [
      "Z:\\Private\\arham.anwar\\Parcel Tool\\UPS 1\\Invoice_00000711AV_013021.csv\n"
     ]
    },
    {
     "name": "stderr",
     "output_type": "stream",
     "text": [
      "C:\\Users\\Arham\\AppData\\Local\\Temp/ipykernel_10076/2798089474.py:6: DtypeWarning: Columns (23,24,25,32,38,64,67,68,69,70,71,72,73,80,82,83,84,85,86,87,88,89,128,174,175,176,177,195,200,225,226) have mixed types.Specify dtype option on import or set low_memory=False.\n",
      "  df_Files_Latest = raw_input_consolidation(Files_Latest, output_file)\n"
     ]
    },
    {
     "name": "stdout",
     "output_type": "stream",
     "text": [
      "Z:\\Private\\arham.anwar\\Parcel Tool\\UPS 1\\Invoice_00000711AV_020621.csv\n"
     ]
    },
    {
     "name": "stderr",
     "output_type": "stream",
     "text": [
      "C:\\Users\\Arham\\AppData\\Local\\Temp/ipykernel_10076/2798089474.py:6: DtypeWarning: Columns (23,24,25,64,72,82,83,84,85,86,87,88,89,104,106,176,225,226) have mixed types.Specify dtype option on import or set low_memory=False.\n",
      "  df_Files_Latest = raw_input_consolidation(Files_Latest, output_file)\n"
     ]
    },
    {
     "name": "stdout",
     "output_type": "stream",
     "text": [
      "Z:\\Private\\arham.anwar\\Parcel Tool\\UPS 1\\Invoice_00000711AV_021321.csv\n"
     ]
    },
    {
     "name": "stderr",
     "output_type": "stream",
     "text": [
      "C:\\Users\\Arham\\AppData\\Local\\Temp/ipykernel_10076/2798089474.py:6: DtypeWarning: Columns (23,24,25,32,38,64,69,72,80,82,83,84,85,86,87,88,89,99,128,195,200,225,226) have mixed types.Specify dtype option on import or set low_memory=False.\n",
      "  df_Files_Latest = raw_input_consolidation(Files_Latest, output_file)\n"
     ]
    },
    {
     "name": "stdout",
     "output_type": "stream",
     "text": [
      "Z:\\Private\\arham.anwar\\Parcel Tool\\UPS 1\\Invoice_00000711AV_022021.csv\n"
     ]
    },
    {
     "name": "stderr",
     "output_type": "stream",
     "text": [
      "C:\\Users\\Arham\\AppData\\Local\\Temp/ipykernel_10076/2798089474.py:6: DtypeWarning: Columns (23,24,25,32,38,64,66,67,68,69,70,71,72,73,80,82,83,84,85,86,87,88,89,104,106,128,174,175,176,195,200,225,226) have mixed types.Specify dtype option on import or set low_memory=False.\n",
      "  df_Files_Latest = raw_input_consolidation(Files_Latest, output_file)\n"
     ]
    },
    {
     "name": "stdout",
     "output_type": "stream",
     "text": [
      "Z:\\Private\\arham.anwar\\Parcel Tool\\UPS 1\\Invoice_00000711AV_022721.csv\n"
     ]
    },
    {
     "name": "stderr",
     "output_type": "stream",
     "text": [
      "C:\\Users\\Arham\\AppData\\Local\\Temp/ipykernel_10076/2798089474.py:6: DtypeWarning: Columns (23,24,25,32,38,64,66,67,68,69,70,71,72,73,80,82,83,84,85,86,87,88,89,128,174,175,176,195,200,225,226) have mixed types.Specify dtype option on import or set low_memory=False.\n",
      "  df_Files_Latest = raw_input_consolidation(Files_Latest, output_file)\n"
     ]
    },
    {
     "name": "stdout",
     "output_type": "stream",
     "text": [
      "Z:\\Private\\arham.anwar\\Parcel Tool\\UPS 1\\Invoice_00000711AV_030621.csv\n",
      "Z:\\Private\\arham.anwar\\Parcel Tool\\UPS 1\\Invoice_00000711AV_031321.csv\n"
     ]
    },
    {
     "name": "stderr",
     "output_type": "stream",
     "text": [
      "C:\\Users\\Arham\\AppData\\Local\\Temp/ipykernel_10076/2798089474.py:6: DtypeWarning: Columns (23,32,38,64,66,67,68,69,70,71,72,73,80,82,83,84,85,86,87,88,89,104,106,128,174,175,176,195,200,225,226) have mixed types.Specify dtype option on import or set low_memory=False.\n",
      "  df_Files_Latest = raw_input_consolidation(Files_Latest, output_file)\n"
     ]
    },
    {
     "name": "stdout",
     "output_type": "stream",
     "text": [
      "Z:\\Private\\arham.anwar\\Parcel Tool\\UPS 1\\Invoice_00000711AV_032021.csv\n",
      "Z:\\Private\\arham.anwar\\Parcel Tool\\UPS 1\\Invoice_00000711AV_040321.csv\n"
     ]
    },
    {
     "name": "stderr",
     "output_type": "stream",
     "text": [
      "C:\\Users\\Arham\\AppData\\Local\\Temp/ipykernel_10076/2798089474.py:6: DtypeWarning: Columns (23,24,25,32,38,64,66,67,68,69,70,71,72,73,80,82,83,84,85,86,87,88,89,99,128,174,175,176,195,200,225,226) have mixed types.Specify dtype option on import or set low_memory=False.\n",
      "  df_Files_Latest = raw_input_consolidation(Files_Latest, output_file)\n"
     ]
    },
    {
     "name": "stdout",
     "output_type": "stream",
     "text": [
      "Z:\\Private\\arham.anwar\\Parcel Tool\\UPS 1\\Invoice_00000711AV_041021.csv\n"
     ]
    },
    {
     "name": "stderr",
     "output_type": "stream",
     "text": [
      "C:\\Users\\Arham\\AppData\\Local\\Temp/ipykernel_10076/2798089474.py:6: DtypeWarning: Columns (23,25,32,38,64,66,67,68,69,70,71,72,73,80,82,83,84,85,86,87,88,89,128,174,175,176,195,200,225,226) have mixed types.Specify dtype option on import or set low_memory=False.\n",
      "  df_Files_Latest = raw_input_consolidation(Files_Latest, output_file)\n"
     ]
    },
    {
     "name": "stdout",
     "output_type": "stream",
     "text": [
      "Z:\\Private\\arham.anwar\\Parcel Tool\\UPS 1\\Invoice_00000711AV_041721.csv\n",
      "Z:\\Private\\arham.anwar\\Parcel Tool\\UPS 1\\Invoice_00000711AV_042421.csv\n"
     ]
    },
    {
     "name": "stderr",
     "output_type": "stream",
     "text": [
      "C:\\Users\\Arham\\AppData\\Local\\Temp/ipykernel_10076/2798089474.py:6: DtypeWarning: Columns (23,24,32,38,64,66,67,68,69,70,71,72,73,80,82,83,84,85,86,87,88,89,99,128,174,175,176,195,200,225,226) have mixed types.Specify dtype option on import or set low_memory=False.\n",
      "  df_Files_Latest = raw_input_consolidation(Files_Latest, output_file)\n"
     ]
    },
    {
     "name": "stdout",
     "output_type": "stream",
     "text": [
      "consolidated_df shape- (867095, 250)\n"
     ]
    }
   ],
   "source": [
    "# Path to Files\n",
    "Files_Latest = glob.glob(r\"Z:\\Private\\arham.anwar\\Parcel Tool\\UPS 1\\*.csv\")\n",
    "\n",
    "# Calling the consolidation function\n",
    "output_file = r\"Z:\\Private\\arham.anwar\\Parcel Tool\\UPS\" + \"\\\\\" + filename\n",
    "df_Files_Latest = raw_input_consolidation(Files_Latest, output_file)\n"
   ]
  },
  {
   "cell_type": "code",
   "execution_count": 28,
   "id": "6888bdb1",
   "metadata": {},
   "outputs": [
    {
     "data": {
      "text/html": [
       "<div>\n",
       "<style scoped>\n",
       "    .dataframe tbody tr th:only-of-type {\n",
       "        vertical-align: middle;\n",
       "    }\n",
       "\n",
       "    .dataframe tbody tr th {\n",
       "        vertical-align: top;\n",
       "    }\n",
       "\n",
       "    .dataframe thead th {\n",
       "        text-align: right;\n",
       "    }\n",
       "</style>\n",
       "<table border=\"1\" class=\"dataframe\">\n",
       "  <thead>\n",
       "    <tr style=\"text-align: right;\">\n",
       "      <th></th>\n",
       "      <th>Version</th>\n",
       "      <th>Recipient Number</th>\n",
       "      <th>Account Number</th>\n",
       "      <th>Account Country</th>\n",
       "      <th>Invoice Date</th>\n",
       "      <th>Invoice Number</th>\n",
       "      <th>Invoice Type Code</th>\n",
       "      <th>Invoice Type Detail Code</th>\n",
       "      <th>Account Tax ID</th>\n",
       "      <th>Invoice Currency Code</th>\n",
       "      <th>...</th>\n",
       "      <th>Place Holder 50</th>\n",
       "      <th>Place Holder 51</th>\n",
       "      <th>Place Holder 52</th>\n",
       "      <th>Place Holder 53</th>\n",
       "      <th>Place Holder 54</th>\n",
       "      <th>Place Holder 55</th>\n",
       "      <th>Place Holder 56</th>\n",
       "      <th>Place Holder 57</th>\n",
       "      <th>Place Holder 58</th>\n",
       "      <th>Place Holder 59</th>\n",
       "    </tr>\n",
       "  </thead>\n",
       "  <tbody>\n",
       "    <tr>\n",
       "      <th>0</th>\n",
       "      <td>2.1</td>\n",
       "      <td>00000711AV</td>\n",
       "      <td>0000A1690Y</td>\n",
       "      <td>US</td>\n",
       "      <td>1/2/2021</td>\n",
       "      <td>000000A1690Y011</td>\n",
       "      <td>E</td>\n",
       "      <td>NaN</td>\n",
       "      <td>NaN</td>\n",
       "      <td>USD</td>\n",
       "      <td>...</td>\n",
       "      <td>NaN</td>\n",
       "      <td>NaN</td>\n",
       "      <td>NaN</td>\n",
       "      <td>NaN</td>\n",
       "      <td>NaN</td>\n",
       "      <td>NaN</td>\n",
       "      <td>NaN</td>\n",
       "      <td>NaN</td>\n",
       "      <td>NaN</td>\n",
       "      <td>NaN</td>\n",
       "    </tr>\n",
       "    <tr>\n",
       "      <th>1</th>\n",
       "      <td>2.1</td>\n",
       "      <td>00000711AV</td>\n",
       "      <td>0000A1690Y</td>\n",
       "      <td>US</td>\n",
       "      <td>1/2/2021</td>\n",
       "      <td>000000A1690Y011</td>\n",
       "      <td>E</td>\n",
       "      <td>NaN</td>\n",
       "      <td>NaN</td>\n",
       "      <td>USD</td>\n",
       "      <td>...</td>\n",
       "      <td>NaN</td>\n",
       "      <td>NaN</td>\n",
       "      <td>NaN</td>\n",
       "      <td>NaN</td>\n",
       "      <td>NaN</td>\n",
       "      <td>NaN</td>\n",
       "      <td>NaN</td>\n",
       "      <td>NaN</td>\n",
       "      <td>NaN</td>\n",
       "      <td>NaN</td>\n",
       "    </tr>\n",
       "    <tr>\n",
       "      <th>2</th>\n",
       "      <td>2.1</td>\n",
       "      <td>00000711AV</td>\n",
       "      <td>0000A1690Y</td>\n",
       "      <td>US</td>\n",
       "      <td>1/2/2021</td>\n",
       "      <td>000000A1690Y011</td>\n",
       "      <td>E</td>\n",
       "      <td>NaN</td>\n",
       "      <td>NaN</td>\n",
       "      <td>USD</td>\n",
       "      <td>...</td>\n",
       "      <td>NaN</td>\n",
       "      <td>NaN</td>\n",
       "      <td>NaN</td>\n",
       "      <td>NaN</td>\n",
       "      <td>NaN</td>\n",
       "      <td>NaN</td>\n",
       "      <td>NaN</td>\n",
       "      <td>NaN</td>\n",
       "      <td>NaN</td>\n",
       "      <td>NaN</td>\n",
       "    </tr>\n",
       "    <tr>\n",
       "      <th>3</th>\n",
       "      <td>2.1</td>\n",
       "      <td>00000711AV</td>\n",
       "      <td>0000A6343W</td>\n",
       "      <td>US</td>\n",
       "      <td>1/2/2021</td>\n",
       "      <td>000000A6343W011</td>\n",
       "      <td>E</td>\n",
       "      <td>NaN</td>\n",
       "      <td>NaN</td>\n",
       "      <td>USD</td>\n",
       "      <td>...</td>\n",
       "      <td>NaN</td>\n",
       "      <td>NaN</td>\n",
       "      <td>NaN</td>\n",
       "      <td>NaN</td>\n",
       "      <td>NaN</td>\n",
       "      <td>NaN</td>\n",
       "      <td>NaN</td>\n",
       "      <td>NaN</td>\n",
       "      <td>NaN</td>\n",
       "      <td>NaN</td>\n",
       "    </tr>\n",
       "    <tr>\n",
       "      <th>4</th>\n",
       "      <td>2.1</td>\n",
       "      <td>00000711AV</td>\n",
       "      <td>0000A6343W</td>\n",
       "      <td>US</td>\n",
       "      <td>1/2/2021</td>\n",
       "      <td>000000A6343W011</td>\n",
       "      <td>E</td>\n",
       "      <td>NaN</td>\n",
       "      <td>NaN</td>\n",
       "      <td>USD</td>\n",
       "      <td>...</td>\n",
       "      <td>NaN</td>\n",
       "      <td>NaN</td>\n",
       "      <td>NaN</td>\n",
       "      <td>NaN</td>\n",
       "      <td>NaN</td>\n",
       "      <td>NaN</td>\n",
       "      <td>NaN</td>\n",
       "      <td>NaN</td>\n",
       "      <td>NaN</td>\n",
       "      <td>NaN</td>\n",
       "    </tr>\n",
       "    <tr>\n",
       "      <th>...</th>\n",
       "      <td>...</td>\n",
       "      <td>...</td>\n",
       "      <td>...</td>\n",
       "      <td>...</td>\n",
       "      <td>...</td>\n",
       "      <td>...</td>\n",
       "      <td>...</td>\n",
       "      <td>...</td>\n",
       "      <td>...</td>\n",
       "      <td>...</td>\n",
       "      <td>...</td>\n",
       "      <td>...</td>\n",
       "      <td>...</td>\n",
       "      <td>...</td>\n",
       "      <td>...</td>\n",
       "      <td>...</td>\n",
       "      <td>...</td>\n",
       "      <td>...</td>\n",
       "      <td>...</td>\n",
       "      <td>...</td>\n",
       "      <td>...</td>\n",
       "    </tr>\n",
       "    <tr>\n",
       "      <th>51249</th>\n",
       "      <td>2.1</td>\n",
       "      <td>00000711AV</td>\n",
       "      <td>00009X73Y4</td>\n",
       "      <td>US</td>\n",
       "      <td>4/24/2021</td>\n",
       "      <td>0000009X73Y4171</td>\n",
       "      <td>E</td>\n",
       "      <td>NaN</td>\n",
       "      <td>NaN</td>\n",
       "      <td>USD</td>\n",
       "      <td>...</td>\n",
       "      <td>NaN</td>\n",
       "      <td>NaN</td>\n",
       "      <td>NaN</td>\n",
       "      <td>NaN</td>\n",
       "      <td>NaN</td>\n",
       "      <td>NaN</td>\n",
       "      <td>NaN</td>\n",
       "      <td>NaN</td>\n",
       "      <td>NaN</td>\n",
       "      <td>NaN</td>\n",
       "    </tr>\n",
       "    <tr>\n",
       "      <th>51250</th>\n",
       "      <td>2.1</td>\n",
       "      <td>00000711AV</td>\n",
       "      <td>00009X73Y4</td>\n",
       "      <td>US</td>\n",
       "      <td>4/24/2021</td>\n",
       "      <td>0000009X73Y4171</td>\n",
       "      <td>E</td>\n",
       "      <td>NaN</td>\n",
       "      <td>NaN</td>\n",
       "      <td>USD</td>\n",
       "      <td>...</td>\n",
       "      <td>NaN</td>\n",
       "      <td>NaN</td>\n",
       "      <td>NaN</td>\n",
       "      <td>NaN</td>\n",
       "      <td>NaN</td>\n",
       "      <td>NaN</td>\n",
       "      <td>NaN</td>\n",
       "      <td>NaN</td>\n",
       "      <td>NaN</td>\n",
       "      <td>NaN</td>\n",
       "    </tr>\n",
       "    <tr>\n",
       "      <th>51251</th>\n",
       "      <td>2.1</td>\n",
       "      <td>00000711AV</td>\n",
       "      <td>00009X73Y4</td>\n",
       "      <td>US</td>\n",
       "      <td>4/24/2021</td>\n",
       "      <td>0000009X73Y4171</td>\n",
       "      <td>E</td>\n",
       "      <td>NaN</td>\n",
       "      <td>NaN</td>\n",
       "      <td>USD</td>\n",
       "      <td>...</td>\n",
       "      <td>NaN</td>\n",
       "      <td>NaN</td>\n",
       "      <td>NaN</td>\n",
       "      <td>NaN</td>\n",
       "      <td>NaN</td>\n",
       "      <td>NaN</td>\n",
       "      <td>NaN</td>\n",
       "      <td>NaN</td>\n",
       "      <td>NaN</td>\n",
       "      <td>NaN</td>\n",
       "    </tr>\n",
       "    <tr>\n",
       "      <th>51252</th>\n",
       "      <td>2.1</td>\n",
       "      <td>00000711AV</td>\n",
       "      <td>00009138V4</td>\n",
       "      <td>US</td>\n",
       "      <td>4/24/2021</td>\n",
       "      <td>0000009138V4171</td>\n",
       "      <td>E</td>\n",
       "      <td>NaN</td>\n",
       "      <td>NaN</td>\n",
       "      <td>USD</td>\n",
       "      <td>...</td>\n",
       "      <td>NaN</td>\n",
       "      <td>NaN</td>\n",
       "      <td>NaN</td>\n",
       "      <td>NaN</td>\n",
       "      <td>NaN</td>\n",
       "      <td>NaN</td>\n",
       "      <td>NaN</td>\n",
       "      <td>NaN</td>\n",
       "      <td>NaN</td>\n",
       "      <td>NaN</td>\n",
       "    </tr>\n",
       "    <tr>\n",
       "      <th>51253</th>\n",
       "      <td>2.1</td>\n",
       "      <td>00000711AV</td>\n",
       "      <td>00009138V4</td>\n",
       "      <td>US</td>\n",
       "      <td>4/24/2021</td>\n",
       "      <td>0000009138V4171</td>\n",
       "      <td>E</td>\n",
       "      <td>NaN</td>\n",
       "      <td>NaN</td>\n",
       "      <td>USD</td>\n",
       "      <td>...</td>\n",
       "      <td>NaN</td>\n",
       "      <td>NaN</td>\n",
       "      <td>NaN</td>\n",
       "      <td>NaN</td>\n",
       "      <td>NaN</td>\n",
       "      <td>NaN</td>\n",
       "      <td>NaN</td>\n",
       "      <td>NaN</td>\n",
       "      <td>NaN</td>\n",
       "      <td>NaN</td>\n",
       "    </tr>\n",
       "  </tbody>\n",
       "</table>\n",
       "<p>867095 rows × 250 columns</p>\n",
       "</div>"
      ],
      "text/plain": [
       "       Version Recipient Number Account Number Account Country Invoice Date  \\\n",
       "0          2.1       00000711AV     0000A1690Y              US     1/2/2021   \n",
       "1          2.1       00000711AV     0000A1690Y              US     1/2/2021   \n",
       "2          2.1       00000711AV     0000A1690Y              US     1/2/2021   \n",
       "3          2.1       00000711AV     0000A6343W              US     1/2/2021   \n",
       "4          2.1       00000711AV     0000A6343W              US     1/2/2021   \n",
       "...        ...              ...            ...             ...          ...   \n",
       "51249      2.1       00000711AV     00009X73Y4              US    4/24/2021   \n",
       "51250      2.1       00000711AV     00009X73Y4              US    4/24/2021   \n",
       "51251      2.1       00000711AV     00009X73Y4              US    4/24/2021   \n",
       "51252      2.1       00000711AV     00009138V4              US    4/24/2021   \n",
       "51253      2.1       00000711AV     00009138V4              US    4/24/2021   \n",
       "\n",
       "        Invoice Number Invoice Type Code  Invoice Type Detail Code  \\\n",
       "0      000000A1690Y011                 E                       NaN   \n",
       "1      000000A1690Y011                 E                       NaN   \n",
       "2      000000A1690Y011                 E                       NaN   \n",
       "3      000000A6343W011                 E                       NaN   \n",
       "4      000000A6343W011                 E                       NaN   \n",
       "...                ...               ...                       ...   \n",
       "51249  0000009X73Y4171                 E                       NaN   \n",
       "51250  0000009X73Y4171                 E                       NaN   \n",
       "51251  0000009X73Y4171                 E                       NaN   \n",
       "51252  0000009138V4171                 E                       NaN   \n",
       "51253  0000009138V4171                 E                       NaN   \n",
       "\n",
       "       Account Tax ID Invoice Currency Code  ...  Place Holder 50  \\\n",
       "0                 NaN                   USD  ...              NaN   \n",
       "1                 NaN                   USD  ...              NaN   \n",
       "2                 NaN                   USD  ...              NaN   \n",
       "3                 NaN                   USD  ...              NaN   \n",
       "4                 NaN                   USD  ...              NaN   \n",
       "...               ...                   ...  ...              ...   \n",
       "51249             NaN                   USD  ...              NaN   \n",
       "51250             NaN                   USD  ...              NaN   \n",
       "51251             NaN                   USD  ...              NaN   \n",
       "51252             NaN                   USD  ...              NaN   \n",
       "51253             NaN                   USD  ...              NaN   \n",
       "\n",
       "      Place Holder 51  Place Holder 52 Place Holder 53  Place Holder 54  \\\n",
       "0                 NaN              NaN             NaN              NaN   \n",
       "1                 NaN              NaN             NaN              NaN   \n",
       "2                 NaN              NaN             NaN              NaN   \n",
       "3                 NaN              NaN             NaN              NaN   \n",
       "4                 NaN              NaN             NaN              NaN   \n",
       "...               ...              ...             ...              ...   \n",
       "51249             NaN              NaN             NaN              NaN   \n",
       "51250             NaN              NaN             NaN              NaN   \n",
       "51251             NaN              NaN             NaN              NaN   \n",
       "51252             NaN              NaN             NaN              NaN   \n",
       "51253             NaN              NaN             NaN              NaN   \n",
       "\n",
       "      Place Holder 55 Place Holder 56 Place Holder 57  Place Holder 58  \\\n",
       "0                 NaN             NaN             NaN              NaN   \n",
       "1                 NaN             NaN             NaN              NaN   \n",
       "2                 NaN             NaN             NaN              NaN   \n",
       "3                 NaN             NaN             NaN              NaN   \n",
       "4                 NaN             NaN             NaN              NaN   \n",
       "...               ...             ...             ...              ...   \n",
       "51249             NaN             NaN             NaN              NaN   \n",
       "51250             NaN             NaN             NaN              NaN   \n",
       "51251             NaN             NaN             NaN              NaN   \n",
       "51252             NaN             NaN             NaN              NaN   \n",
       "51253             NaN             NaN             NaN              NaN   \n",
       "\n",
       "       Place Holder 59  \n",
       "0                  NaN  \n",
       "1                  NaN  \n",
       "2                  NaN  \n",
       "3                  NaN  \n",
       "4                  NaN  \n",
       "...                ...  \n",
       "51249              NaN  \n",
       "51250              NaN  \n",
       "51251              NaN  \n",
       "51252              NaN  \n",
       "51253              NaN  \n",
       "\n",
       "[867095 rows x 250 columns]"
      ]
     },
     "execution_count": 28,
     "metadata": {},
     "output_type": "execute_result"
    }
   ],
   "source": [
    "df_Files_Latest"
   ]
  },
  {
   "cell_type": "code",
   "execution_count": 29,
   "id": "624546f3",
   "metadata": {},
   "outputs": [],
   "source": [
    "df_Files_Latest.to_csv(\"BR_01_04_v3.csv\")"
   ]
  },
  {
   "cell_type": "code",
   "execution_count": null,
   "id": "b2fd15ac",
   "metadata": {},
   "outputs": [],
   "source": []
  }
 ],
 "metadata": {
  "kernelspec": {
   "display_name": "Python 3 (ipykernel)",
   "language": "python",
   "name": "python3"
  },
  "language_info": {
   "codemirror_mode": {
    "name": "ipython",
    "version": 3
   },
   "file_extension": ".py",
   "mimetype": "text/x-python",
   "name": "python",
   "nbconvert_exporter": "python",
   "pygments_lexer": "ipython3",
   "version": "3.9.7"
  }
 },
 "nbformat": 4,
 "nbformat_minor": 5
}
