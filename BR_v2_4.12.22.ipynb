{
 "cells": [
  {
   "cell_type": "code",
   "execution_count": 1,
   "id": "44dfd66f",
   "metadata": {},
   "outputs": [],
   "source": [
    "# Download Packages\n",
    "import pandas as pd\n",
    "import glob\n",
    "import numpy as np\n",
    "\n",
    "filename = 'Broadridge UPS Consolidated.csv'"
   ]
  },
  {
   "cell_type": "code",
   "execution_count": 2,
   "id": "8036a60b",
   "metadata": {},
   "outputs": [],
   "source": [
    "# Function to consolidate Files\n",
    "def raw_input_consolidation(files, output_file=filename):\n",
    "    df_list = []\n",
    "    for f in files:\n",
    "        print(f)\n",
    "        df = pd.read_csv(f,header=0)\n",
    "        df_list.append(df)\n",
    "\n",
    "\n",
    "    consolidated_df = pd.concat(df_list, sort=False)\n",
    "        \n",
    "           \n",
    "    print(\"consolidated_df shape-\", consolidated_df.shape)\n",
    "    #consolidated_df.to_excel(output_file, index=False)\n",
    "    #print(\"consolidated file saved at - \", output_file)\n",
    "   \n",
    "    return consolidated_df\n"
   ]
  },
  {
   "cell_type": "code",
   "execution_count": 3,
   "id": "b89e588d",
   "metadata": {},
   "outputs": [
    {
     "name": "stdout",
     "output_type": "stream",
     "text": [
      "Z:\\Private\\arham.anwar\\Parcel Tool\\UPS_4.4.22_v2\\CSV\\1_BR_Jan to April_(1 of 4)_cleaned_03.28.csv\n"
     ]
    },
    {
     "name": "stderr",
     "output_type": "stream",
     "text": [
      "C:\\Users\\Arham\\AppData\\Local\\Temp/ipykernel_21972/1028766553.py:6: DtypeWarning: Columns (24,25,26,33,39,68,70,71,72,73,74,75,76,77,78,86,88,89,90,91,92,93,94,95,105,110,112,134,180,181,182,183,201,206,231,232) have mixed types.Specify dtype option on import or set low_memory=False.\n",
      "  df_Files_Latest = raw_input_consolidation(Files_Latest, output_file)\n"
     ]
    },
    {
     "name": "stdout",
     "output_type": "stream",
     "text": [
      "Z:\\Private\\arham.anwar\\Parcel Tool\\UPS_4.4.22_v2\\CSV\\2_BR_Jan to April_(2 of 4)_cleaned_03.28.csv\n"
     ]
    },
    {
     "name": "stderr",
     "output_type": "stream",
     "text": [
      "C:\\Users\\Arham\\AppData\\Local\\Temp/ipykernel_21972/1028766553.py:6: DtypeWarning: Columns (24,25,26,33,39,68,70,71,72,73,74,75,76,77,78,86,88,89,90,91,92,93,94,95,110,112,134,180,181,182,201,206,231,232) have mixed types.Specify dtype option on import or set low_memory=False.\n",
      "  df_Files_Latest = raw_input_consolidation(Files_Latest, output_file)\n"
     ]
    },
    {
     "name": "stdout",
     "output_type": "stream",
     "text": [
      "Z:\\Private\\arham.anwar\\Parcel Tool\\UPS_4.4.22_v2\\CSV\\3_BR_Jan to April (3 of 4)_Cleaned_AA_3.29.22.csv\n"
     ]
    },
    {
     "name": "stderr",
     "output_type": "stream",
     "text": [
      "C:\\Users\\Arham\\AppData\\Local\\Temp/ipykernel_21972/1028766553.py:6: DtypeWarning: Columns (24,25,26,33,39,68,70,71,72,73,74,75,76,77,78,86,88,89,90,91,92,93,94,95,105,134,180,181,182,201,206,231,232) have mixed types.Specify dtype option on import or set low_memory=False.\n",
      "  df_Files_Latest = raw_input_consolidation(Files_Latest, output_file)\n"
     ]
    },
    {
     "name": "stdout",
     "output_type": "stream",
     "text": [
      "Z:\\Private\\arham.anwar\\Parcel Tool\\UPS_4.4.22_v2\\CSV\\4_BR_Jan to April (4 of 4)_Cleaned_AA_3.29.22.csv\n",
      "Z:\\Private\\arham.anwar\\Parcel Tool\\UPS_4.4.22_v2\\CSV\\5_BR_May-Aug_1 of 2_transformed_03.28.csv\n"
     ]
    },
    {
     "name": "stderr",
     "output_type": "stream",
     "text": [
      "C:\\Users\\Arham\\AppData\\Local\\Temp/ipykernel_21972/1028766553.py:6: DtypeWarning: Columns (16,17,22,23,24,25,26,33,37,39,68,70,71,72,73,74,75,76,77,78,86,88,89,90,91,92,93,94,95,105,110,112,134,180,181,182,183,201,206,231,232,236,237) have mixed types.Specify dtype option on import or set low_memory=False.\n",
      "  df_Files_Latest = raw_input_consolidation(Files_Latest, output_file)\n"
     ]
    },
    {
     "name": "stdout",
     "output_type": "stream",
     "text": [
      "Z:\\Private\\arham.anwar\\Parcel Tool\\UPS_4.4.22_v2\\CSV\\6_BR_May to Aug (2 of 2)_ Cleaned_AA_3.29.22.csv\n"
     ]
    },
    {
     "name": "stderr",
     "output_type": "stream",
     "text": [
      "C:\\Users\\Arham\\AppData\\Local\\Temp/ipykernel_21972/1028766553.py:6: DtypeWarning: Columns (22,23,24,25,26,33,37,39,68,70,71,72,73,74,75,76,77,78,86,88,89,90,91,92,93,94,95,109,110,112,134,180,181,182,183,201,206,231,232) have mixed types.Specify dtype option on import or set low_memory=False.\n",
      "  df_Files_Latest = raw_input_consolidation(Files_Latest, output_file)\n"
     ]
    },
    {
     "name": "stdout",
     "output_type": "stream",
     "text": [
      "Z:\\Private\\arham.anwar\\Parcel Tool\\UPS_4.4.22_v2\\CSV\\7_BR_Sept to Dec_Cleaned_03.24_MB.csv\n"
     ]
    },
    {
     "name": "stderr",
     "output_type": "stream",
     "text": [
      "C:\\Users\\Arham\\AppData\\Local\\Temp/ipykernel_21972/1028766553.py:6: DtypeWarning: Columns (16,17,22,23,24,25,26,33,39,68,70,71,72,73,74,75,76,77,78,79,86,88,89,90,91,92,93,94,95,105,110,112,134,180,181,182,183,201,206,231,232) have mixed types.Specify dtype option on import or set low_memory=False.\n",
      "  df_Files_Latest = raw_input_consolidation(Files_Latest, output_file)\n"
     ]
    },
    {
     "name": "stdout",
     "output_type": "stream",
     "text": [
      "consolidated_df shape- (1748864, 261)\n"
     ]
    }
   ],
   "source": [
    "# Path to Files\n",
    "Files_Latest = glob.glob(r\"Z:\\Private\\arham.anwar\\Parcel Tool\\UPS_4.4.22_v2\\CSV\\*.csv\")\n",
    "\n",
    "# Calling the consolidation function\n",
    "output_file = r\"Z:\\Private\\arham.anwar\\Parcel Tool\\UPS_4.4.22_Output\" + \"\\\\\" + filename\n",
    "df_Files_Latest = raw_input_consolidation(Files_Latest, output_file)"
   ]
  },
  {
   "cell_type": "code",
   "execution_count": 4,
   "id": "ca8fa781",
   "metadata": {},
   "outputs": [],
   "source": [
    "#saving to a different dataframe\n",
    "DF_Master = df_Files_Latest"
   ]
  },
  {
   "cell_type": "markdown",
   "id": "e724c16d",
   "metadata": {},
   "source": [
    "Total Rows in Data Frame: 1,748,864 \n",
    "Total Columns : 261"
   ]
  },
  {
   "cell_type": "code",
   "execution_count": 5,
   "id": "8a7db1de",
   "metadata": {},
   "outputs": [
    {
     "data": {
      "text/html": [
       "<div>\n",
       "<style scoped>\n",
       "    .dataframe tbody tr th:only-of-type {\n",
       "        vertical-align: middle;\n",
       "    }\n",
       "\n",
       "    .dataframe tbody tr th {\n",
       "        vertical-align: top;\n",
       "    }\n",
       "\n",
       "    .dataframe thead th {\n",
       "        text-align: right;\n",
       "    }\n",
       "</style>\n",
       "<table border=\"1\" class=\"dataframe\">\n",
       "  <thead>\n",
       "    <tr style=\"text-align: right;\">\n",
       "      <th></th>\n",
       "      <th>#</th>\n",
       "      <th>Alternate Invoice Amount</th>\n",
       "      <th>Basis Value</th>\n",
       "      <th>Billed Weight</th>\n",
       "      <th>Billed Weight Type</th>\n",
       "      <th>Charged Unit Quantity</th>\n",
       "      <th>Corrected Zone</th>\n",
       "      <th>Currency Variance Amount</th>\n",
       "      <th>Duty Amount</th>\n",
       "      <th>Duty Rate</th>\n",
       "      <th>...</th>\n",
       "      <th>Tax Value</th>\n",
       "      <th>Tax Variance Amount</th>\n",
       "      <th>Total Customs Amount</th>\n",
       "      <th>Total Value for Duty</th>\n",
       "      <th>Type Code 1</th>\n",
       "      <th>VAT Amount</th>\n",
       "      <th>VAT Basis Amount</th>\n",
       "      <th>VAT Rate</th>\n",
       "      <th>Version</th>\n",
       "      <th>Zone</th>\n",
       "    </tr>\n",
       "    <tr>\n",
       "      <th>Tracking Number</th>\n",
       "      <th></th>\n",
       "      <th></th>\n",
       "      <th></th>\n",
       "      <th></th>\n",
       "      <th></th>\n",
       "      <th></th>\n",
       "      <th></th>\n",
       "      <th></th>\n",
       "      <th></th>\n",
       "      <th></th>\n",
       "      <th></th>\n",
       "      <th></th>\n",
       "      <th></th>\n",
       "      <th></th>\n",
       "      <th></th>\n",
       "      <th></th>\n",
       "      <th></th>\n",
       "      <th></th>\n",
       "      <th></th>\n",
       "      <th></th>\n",
       "      <th></th>\n",
       "    </tr>\n",
       "  </thead>\n",
       "  <tbody>\n",
       "    <tr>\n",
       "      <th>1Z0030950353356315</th>\n",
       "      <td>4318.000000</td>\n",
       "      <td>0</td>\n",
       "      <td>138.120000</td>\n",
       "      <td>1.333333</td>\n",
       "      <td>NaN</td>\n",
       "      <td>1.000000</td>\n",
       "      <td>NaN</td>\n",
       "      <td>0</td>\n",
       "      <td>0</td>\n",
       "      <td>0</td>\n",
       "      <td>...</td>\n",
       "      <td>0</td>\n",
       "      <td>0</td>\n",
       "      <td>0</td>\n",
       "      <td>0</td>\n",
       "      <td>NaN</td>\n",
       "      <td>0</td>\n",
       "      <td>0</td>\n",
       "      <td>0</td>\n",
       "      <td>2.1</td>\n",
       "      <td>7.0</td>\n",
       "    </tr>\n",
       "    <tr>\n",
       "      <th>1Z0283240140050006</th>\n",
       "      <td>579.500000</td>\n",
       "      <td>0</td>\n",
       "      <td>49.488333</td>\n",
       "      <td>9.666667</td>\n",
       "      <td>NaN</td>\n",
       "      <td>0.833333</td>\n",
       "      <td>NaN</td>\n",
       "      <td>0</td>\n",
       "      <td>0</td>\n",
       "      <td>0</td>\n",
       "      <td>...</td>\n",
       "      <td>0</td>\n",
       "      <td>0</td>\n",
       "      <td>0</td>\n",
       "      <td>0</td>\n",
       "      <td>NaN</td>\n",
       "      <td>0</td>\n",
       "      <td>0</td>\n",
       "      <td>0</td>\n",
       "      <td>2.1</td>\n",
       "      <td>105.0</td>\n",
       "    </tr>\n",
       "    <tr>\n",
       "      <th>1Z0283240140063814</th>\n",
       "      <td>582.500000</td>\n",
       "      <td>0</td>\n",
       "      <td>33.616667</td>\n",
       "      <td>6.666667</td>\n",
       "      <td>NaN</td>\n",
       "      <td>0.833333</td>\n",
       "      <td>NaN</td>\n",
       "      <td>0</td>\n",
       "      <td>0</td>\n",
       "      <td>0</td>\n",
       "      <td>...</td>\n",
       "      <td>0</td>\n",
       "      <td>0</td>\n",
       "      <td>0</td>\n",
       "      <td>0</td>\n",
       "      <td>NaN</td>\n",
       "      <td>0</td>\n",
       "      <td>0</td>\n",
       "      <td>0</td>\n",
       "      <td>2.1</td>\n",
       "      <td>105.0</td>\n",
       "    </tr>\n",
       "    <tr>\n",
       "      <th>1Z0283240140440577</th>\n",
       "      <td>551.500000</td>\n",
       "      <td>0</td>\n",
       "      <td>37.828333</td>\n",
       "      <td>4.833333</td>\n",
       "      <td>NaN</td>\n",
       "      <td>0.833333</td>\n",
       "      <td>NaN</td>\n",
       "      <td>0</td>\n",
       "      <td>0</td>\n",
       "      <td>0</td>\n",
       "      <td>...</td>\n",
       "      <td>0</td>\n",
       "      <td>0</td>\n",
       "      <td>0</td>\n",
       "      <td>0</td>\n",
       "      <td>NaN</td>\n",
       "      <td>0</td>\n",
       "      <td>0</td>\n",
       "      <td>0</td>\n",
       "      <td>2.1</td>\n",
       "      <td>108.0</td>\n",
       "    </tr>\n",
       "    <tr>\n",
       "      <th>1Z0283240140834704</th>\n",
       "      <td>155.000000</td>\n",
       "      <td>0</td>\n",
       "      <td>15.843333</td>\n",
       "      <td>1.666667</td>\n",
       "      <td>NaN</td>\n",
       "      <td>1.000000</td>\n",
       "      <td>NaN</td>\n",
       "      <td>0</td>\n",
       "      <td>0</td>\n",
       "      <td>0</td>\n",
       "      <td>...</td>\n",
       "      <td>0</td>\n",
       "      <td>0</td>\n",
       "      <td>0</td>\n",
       "      <td>0</td>\n",
       "      <td>NaN</td>\n",
       "      <td>0</td>\n",
       "      <td>0</td>\n",
       "      <td>0</td>\n",
       "      <td>2.1</td>\n",
       "      <td>102.0</td>\n",
       "    </tr>\n",
       "    <tr>\n",
       "      <th>...</th>\n",
       "      <td>...</td>\n",
       "      <td>...</td>\n",
       "      <td>...</td>\n",
       "      <td>...</td>\n",
       "      <td>...</td>\n",
       "      <td>...</td>\n",
       "      <td>...</td>\n",
       "      <td>...</td>\n",
       "      <td>...</td>\n",
       "      <td>...</td>\n",
       "      <td>...</td>\n",
       "      <td>...</td>\n",
       "      <td>...</td>\n",
       "      <td>...</td>\n",
       "      <td>...</td>\n",
       "      <td>...</td>\n",
       "      <td>...</td>\n",
       "      <td>...</td>\n",
       "      <td>...</td>\n",
       "      <td>...</td>\n",
       "      <td>...</td>\n",
       "    </tr>\n",
       "    <tr>\n",
       "      <th>43540882203</th>\n",
       "      <td>5292.000000</td>\n",
       "      <td>0</td>\n",
       "      <td>23.786000</td>\n",
       "      <td>0.200000</td>\n",
       "      <td>1.0</td>\n",
       "      <td>1.000000</td>\n",
       "      <td>NaN</td>\n",
       "      <td>0</td>\n",
       "      <td>0</td>\n",
       "      <td>0</td>\n",
       "      <td>...</td>\n",
       "      <td>0</td>\n",
       "      <td>0</td>\n",
       "      <td>0</td>\n",
       "      <td>0</td>\n",
       "      <td>NaN</td>\n",
       "      <td>0</td>\n",
       "      <td>0</td>\n",
       "      <td>0</td>\n",
       "      <td>2.1</td>\n",
       "      <td>901.0</td>\n",
       "    </tr>\n",
       "    <tr>\n",
       "      <th>F0723321386</th>\n",
       "      <td>138261.400000</td>\n",
       "      <td>0</td>\n",
       "      <td>233.630000</td>\n",
       "      <td>13.400000</td>\n",
       "      <td>0.0</td>\n",
       "      <td>1.000000</td>\n",
       "      <td>NaN</td>\n",
       "      <td>0</td>\n",
       "      <td>0</td>\n",
       "      <td>0</td>\n",
       "      <td>...</td>\n",
       "      <td>0</td>\n",
       "      <td>0</td>\n",
       "      <td>0</td>\n",
       "      <td>0</td>\n",
       "      <td>NaN</td>\n",
       "      <td>0</td>\n",
       "      <td>0</td>\n",
       "      <td>0</td>\n",
       "      <td>2.1</td>\n",
       "      <td>208.0</td>\n",
       "    </tr>\n",
       "    <tr>\n",
       "      <th>H5555216591</th>\n",
       "      <td>8788.000000</td>\n",
       "      <td>0</td>\n",
       "      <td>59.693333</td>\n",
       "      <td>0.333333</td>\n",
       "      <td>30.0</td>\n",
       "      <td>1.000000</td>\n",
       "      <td>NaN</td>\n",
       "      <td>0</td>\n",
       "      <td>0</td>\n",
       "      <td>0</td>\n",
       "      <td>...</td>\n",
       "      <td>0</td>\n",
       "      <td>0</td>\n",
       "      <td>0</td>\n",
       "      <td>0</td>\n",
       "      <td>NaN</td>\n",
       "      <td>0</td>\n",
       "      <td>0</td>\n",
       "      <td>0</td>\n",
       "      <td>2.1</td>\n",
       "      <td>407.0</td>\n",
       "    </tr>\n",
       "    <tr>\n",
       "      <th>J4577817295</th>\n",
       "      <td>8527.500000</td>\n",
       "      <td>0</td>\n",
       "      <td>42.972500</td>\n",
       "      <td>6.500000</td>\n",
       "      <td>0.0</td>\n",
       "      <td>1.000000</td>\n",
       "      <td>NaN</td>\n",
       "      <td>0</td>\n",
       "      <td>0</td>\n",
       "      <td>0</td>\n",
       "      <td>...</td>\n",
       "      <td>0</td>\n",
       "      <td>0</td>\n",
       "      <td>0</td>\n",
       "      <td>0</td>\n",
       "      <td>NaN</td>\n",
       "      <td>0</td>\n",
       "      <td>0</td>\n",
       "      <td>0</td>\n",
       "      <td>2.1</td>\n",
       "      <td>107.0</td>\n",
       "    </tr>\n",
       "    <tr>\n",
       "      <th>J4577817302</th>\n",
       "      <td>7308.833333</td>\n",
       "      <td>0</td>\n",
       "      <td>9.103333</td>\n",
       "      <td>2.500000</td>\n",
       "      <td>0.0</td>\n",
       "      <td>1.000000</td>\n",
       "      <td>NaN</td>\n",
       "      <td>0</td>\n",
       "      <td>0</td>\n",
       "      <td>0</td>\n",
       "      <td>...</td>\n",
       "      <td>0</td>\n",
       "      <td>0</td>\n",
       "      <td>0</td>\n",
       "      <td>0</td>\n",
       "      <td>NaN</td>\n",
       "      <td>0</td>\n",
       "      <td>0</td>\n",
       "      <td>0</td>\n",
       "      <td>2.1</td>\n",
       "      <td>105.0</td>\n",
       "    </tr>\n",
       "  </tbody>\n",
       "</table>\n",
       "<p>601825 rows × 58 columns</p>\n",
       "</div>"
      ],
      "text/plain": [
       "                                #  Alternate Invoice Amount  Basis Value  \\\n",
       "Tracking Number                                                            \n",
       "1Z0030950353356315    4318.000000                         0   138.120000   \n",
       "1Z0283240140050006     579.500000                         0    49.488333   \n",
       "1Z0283240140063814     582.500000                         0    33.616667   \n",
       "1Z0283240140440577     551.500000                         0    37.828333   \n",
       "1Z0283240140834704     155.000000                         0    15.843333   \n",
       "...                           ...                       ...          ...   \n",
       "43540882203           5292.000000                         0    23.786000   \n",
       "F0723321386         138261.400000                         0   233.630000   \n",
       "H5555216591           8788.000000                         0    59.693333   \n",
       "J4577817295           8527.500000                         0    42.972500   \n",
       "J4577817302           7308.833333                         0     9.103333   \n",
       "\n",
       "                    Billed Weight  Billed Weight Type  Charged Unit Quantity  \\\n",
       "Tracking Number                                                                \n",
       "1Z0030950353356315       1.333333                 NaN               1.000000   \n",
       "1Z0283240140050006       9.666667                 NaN               0.833333   \n",
       "1Z0283240140063814       6.666667                 NaN               0.833333   \n",
       "1Z0283240140440577       4.833333                 NaN               0.833333   \n",
       "1Z0283240140834704       1.666667                 NaN               1.000000   \n",
       "...                           ...                 ...                    ...   \n",
       "43540882203              0.200000                 1.0               1.000000   \n",
       "F0723321386             13.400000                 0.0               1.000000   \n",
       "H5555216591              0.333333                30.0               1.000000   \n",
       "J4577817295              6.500000                 0.0               1.000000   \n",
       "J4577817302              2.500000                 0.0               1.000000   \n",
       "\n",
       "                    Corrected Zone  Currency Variance Amount  Duty Amount  \\\n",
       "Tracking Number                                                             \n",
       "1Z0030950353356315             NaN                         0            0   \n",
       "1Z0283240140050006             NaN                         0            0   \n",
       "1Z0283240140063814             NaN                         0            0   \n",
       "1Z0283240140440577             NaN                         0            0   \n",
       "1Z0283240140834704             NaN                         0            0   \n",
       "...                            ...                       ...          ...   \n",
       "43540882203                    NaN                         0            0   \n",
       "F0723321386                    NaN                         0            0   \n",
       "H5555216591                    NaN                         0            0   \n",
       "J4577817295                    NaN                         0            0   \n",
       "J4577817302                    NaN                         0            0   \n",
       "\n",
       "                    Duty Rate  ...  Tax Value  Tax Variance Amount  \\\n",
       "Tracking Number                ...                                   \n",
       "1Z0030950353356315          0  ...          0                    0   \n",
       "1Z0283240140050006          0  ...          0                    0   \n",
       "1Z0283240140063814          0  ...          0                    0   \n",
       "1Z0283240140440577          0  ...          0                    0   \n",
       "1Z0283240140834704          0  ...          0                    0   \n",
       "...                       ...  ...        ...                  ...   \n",
       "43540882203                 0  ...          0                    0   \n",
       "F0723321386                 0  ...          0                    0   \n",
       "H5555216591                 0  ...          0                    0   \n",
       "J4577817295                 0  ...          0                    0   \n",
       "J4577817302                 0  ...          0                    0   \n",
       "\n",
       "                    Total Customs Amount  Total Value for Duty  Type Code 1  \\\n",
       "Tracking Number                                                               \n",
       "1Z0030950353356315                     0                     0          NaN   \n",
       "1Z0283240140050006                     0                     0          NaN   \n",
       "1Z0283240140063814                     0                     0          NaN   \n",
       "1Z0283240140440577                     0                     0          NaN   \n",
       "1Z0283240140834704                     0                     0          NaN   \n",
       "...                                  ...                   ...          ...   \n",
       "43540882203                            0                     0          NaN   \n",
       "F0723321386                            0                     0          NaN   \n",
       "H5555216591                            0                     0          NaN   \n",
       "J4577817295                            0                     0          NaN   \n",
       "J4577817302                            0                     0          NaN   \n",
       "\n",
       "                    VAT Amount  VAT Basis Amount  VAT Rate  Version   Zone  \n",
       "Tracking Number                                                             \n",
       "1Z0030950353356315           0                 0         0      2.1    7.0  \n",
       "1Z0283240140050006           0                 0         0      2.1  105.0  \n",
       "1Z0283240140063814           0                 0         0      2.1  105.0  \n",
       "1Z0283240140440577           0                 0         0      2.1  108.0  \n",
       "1Z0283240140834704           0                 0         0      2.1  102.0  \n",
       "...                        ...               ...       ...      ...    ...  \n",
       "43540882203                  0                 0         0      2.1  901.0  \n",
       "F0723321386                  0                 0         0      2.1  208.0  \n",
       "H5555216591                  0                 0         0      2.1  407.0  \n",
       "J4577817295                  0                 0         0      2.1  107.0  \n",
       "J4577817302                  0                 0         0      2.1  105.0  \n",
       "\n",
       "[601825 rows x 58 columns]"
      ]
     },
     "execution_count": 5,
     "metadata": {},
     "output_type": "execute_result"
    }
   ],
   "source": [
    "#Creating Pivot Table\n",
    "#Update - This syntax was giving error since as it was taking mean by default for values\n",
    "table = pd.pivot_table(DF_Master,index=['Tracking Number'])\n",
    "table"
   ]
  },
  {
   "cell_type": "code",
   "execution_count": null,
   "id": "dd5fe5e5",
   "metadata": {},
   "outputs": [],
   "source": [
    "# Saving Table to CSV\n",
    "table.to_csv(\"BR_Pivot Extract_4.4.22_v1.csv\")"
   ]
  },
  {
   "cell_type": "code",
   "execution_count": 6,
   "id": "764e13d2",
   "metadata": {},
   "outputs": [
    {
     "data": {
      "text/plain": [
       "5471097.110000002"
      ]
     },
     "execution_count": 6,
     "metadata": {},
     "output_type": "execute_result"
    }
   ],
   "source": [
    "#Checking sum of the net amount to validate operation\n",
    "DF_Master['Net Amount'].sum()"
   ]
  },
  {
   "cell_type": "code",
   "execution_count": 7,
   "id": "edf51a71",
   "metadata": {},
   "outputs": [
    {
     "data": {
      "text/plain": [
       "1850281.5633175988"
      ]
     },
     "execution_count": 7,
     "metadata": {},
     "output_type": "execute_result"
    }
   ],
   "source": [
    "#Checking sum of the net amount to validate operation\n",
    "table['Net Amount'].sum()"
   ]
  },
  {
   "cell_type": "code",
   "execution_count": 10,
   "id": "f2f9590f",
   "metadata": {},
   "outputs": [],
   "source": [
    "#Making pivot using group by function\n",
    "tracking_list=DF_Master.groupby('Tracking Number')['Net Amount'].sum()\n",
    "\n",
    "#Saving pivot to csv\n",
    "tracking_list.to_csv(\"Tracking List.csv\")"
   ]
  },
  {
   "cell_type": "code",
   "execution_count": 17,
   "id": "054f51a7",
   "metadata": {},
   "outputs": [],
   "source": [
    "Pivot_extract_v2=DF_Master.pivot_table(index='Tracking Number',columns='Charge Classification Code',values='Net Amount',aggfunc='sum')\n",
    "Pivot_extract_v2.to_csv(\"BR_Pivot Extract_4.4.22_v2.csv\")"
   ]
  },
  {
   "cell_type": "code",
   "execution_count": 18,
   "id": "c681086d",
   "metadata": {},
   "outputs": [
    {
     "data": {
      "text/html": [
       "<div>\n",
       "<style scoped>\n",
       "    .dataframe tbody tr th:only-of-type {\n",
       "        vertical-align: middle;\n",
       "    }\n",
       "\n",
       "    .dataframe tbody tr th {\n",
       "        vertical-align: top;\n",
       "    }\n",
       "\n",
       "    .dataframe thead th {\n",
       "        text-align: right;\n",
       "    }\n",
       "</style>\n",
       "<table border=\"1\" class=\"dataframe\">\n",
       "  <thead>\n",
       "    <tr style=\"text-align: right;\">\n",
       "      <th>Charge Classification Code</th>\n",
       "      <th>ACC</th>\n",
       "      <th>FRT</th>\n",
       "      <th>FSC</th>\n",
       "      <th>INF</th>\n",
       "      <th>MSC</th>\n",
       "    </tr>\n",
       "    <tr>\n",
       "      <th>Tracking Number</th>\n",
       "      <th></th>\n",
       "      <th></th>\n",
       "      <th></th>\n",
       "      <th></th>\n",
       "      <th></th>\n",
       "    </tr>\n",
       "  </thead>\n",
       "  <tbody>\n",
       "    <tr>\n",
       "      <th>1Z0030950353356315</th>\n",
       "      <td>4.60</td>\n",
       "      <td>6.65</td>\n",
       "      <td>0.73</td>\n",
       "      <td>NaN</td>\n",
       "      <td>NaN</td>\n",
       "    </tr>\n",
       "    <tr>\n",
       "      <th>1Z0283240140050006</th>\n",
       "      <td>3.15</td>\n",
       "      <td>57.32</td>\n",
       "      <td>5.73</td>\n",
       "      <td>NaN</td>\n",
       "      <td>NaN</td>\n",
       "    </tr>\n",
       "    <tr>\n",
       "      <th>1Z0283240140063814</th>\n",
       "      <td>2.68</td>\n",
       "      <td>48.72</td>\n",
       "      <td>4.87</td>\n",
       "      <td>NaN</td>\n",
       "      <td>NaN</td>\n",
       "    </tr>\n",
       "    <tr>\n",
       "      <th>1Z0283240140440577</th>\n",
       "      <td>1.58</td>\n",
       "      <td>28.72</td>\n",
       "      <td>2.87</td>\n",
       "      <td>NaN</td>\n",
       "      <td>NaN</td>\n",
       "    </tr>\n",
       "    <tr>\n",
       "      <th>1Z0283240140834704</th>\n",
       "      <td>0.43</td>\n",
       "      <td>8.18</td>\n",
       "      <td>0.33</td>\n",
       "      <td>NaN</td>\n",
       "      <td>NaN</td>\n",
       "    </tr>\n",
       "    <tr>\n",
       "      <th>...</th>\n",
       "      <td>...</td>\n",
       "      <td>...</td>\n",
       "      <td>...</td>\n",
       "      <td>...</td>\n",
       "      <td>...</td>\n",
       "    </tr>\n",
       "    <tr>\n",
       "      <th>43540882203</th>\n",
       "      <td>7.11</td>\n",
       "      <td>23.72</td>\n",
       "      <td>1.12</td>\n",
       "      <td>NaN</td>\n",
       "      <td>NaN</td>\n",
       "    </tr>\n",
       "    <tr>\n",
       "      <th>F0723321386</th>\n",
       "      <td>11.50</td>\n",
       "      <td>61.99</td>\n",
       "      <td>2.48</td>\n",
       "      <td>NaN</td>\n",
       "      <td>NaN</td>\n",
       "    </tr>\n",
       "    <tr>\n",
       "      <th>H5555216591</th>\n",
       "      <td>0.11</td>\n",
       "      <td>48.79</td>\n",
       "      <td>5.01</td>\n",
       "      <td>NaN</td>\n",
       "      <td>NaN</td>\n",
       "    </tr>\n",
       "    <tr>\n",
       "      <th>J4577817295</th>\n",
       "      <td>NaN</td>\n",
       "      <td>28.79</td>\n",
       "      <td>0.56</td>\n",
       "      <td>NaN</td>\n",
       "      <td>NaN</td>\n",
       "    </tr>\n",
       "    <tr>\n",
       "      <th>J4577817302</th>\n",
       "      <td>3.52</td>\n",
       "      <td>29.27</td>\n",
       "      <td>0.64</td>\n",
       "      <td>NaN</td>\n",
       "      <td>NaN</td>\n",
       "    </tr>\n",
       "  </tbody>\n",
       "</table>\n",
       "<p>601825 rows × 5 columns</p>\n",
       "</div>"
      ],
      "text/plain": [
       "Charge Classification Code    ACC    FRT   FSC  INF  MSC\n",
       "Tracking Number                                         \n",
       "1Z0030950353356315           4.60   6.65  0.73  NaN  NaN\n",
       "1Z0283240140050006           3.15  57.32  5.73  NaN  NaN\n",
       "1Z0283240140063814           2.68  48.72  4.87  NaN  NaN\n",
       "1Z0283240140440577           1.58  28.72  2.87  NaN  NaN\n",
       "1Z0283240140834704           0.43   8.18  0.33  NaN  NaN\n",
       "...                           ...    ...   ...  ...  ...\n",
       "43540882203                  7.11  23.72  1.12  NaN  NaN\n",
       "F0723321386                 11.50  61.99  2.48  NaN  NaN\n",
       "H5555216591                  0.11  48.79  5.01  NaN  NaN\n",
       "J4577817295                   NaN  28.79  0.56  NaN  NaN\n",
       "J4577817302                  3.52  29.27  0.64  NaN  NaN\n",
       "\n",
       "[601825 rows x 5 columns]"
      ]
     },
     "execution_count": 18,
     "metadata": {},
     "output_type": "execute_result"
    }
   ],
   "source": [
    "Pivot_extract_v2"
   ]
  },
  {
   "cell_type": "code",
   "execution_count": 20,
   "id": "978ce781",
   "metadata": {},
   "outputs": [],
   "source": [
    "Pivot_extract_v2_1=DF_Master.pivot_table(index='Tracking Number',columns='Charge Description',values='Net Amount',aggfunc='sum')\n",
    "Pivot_extract_v2_1.to_csv(\"BR_Pivot Extract_4.4.22_v3.csv\")\n"
   ]
  },
  {
   "cell_type": "code",
   "execution_count": 22,
   "id": "6b6a8c95",
   "metadata": {},
   "outputs": [],
   "source": []
  },
  {
   "cell_type": "code",
   "execution_count": 3,
   "id": "0e9b7e51",
   "metadata": {},
   "outputs": [],
   "source": [
    "Path=r\"C:\\Users\\Arham\\BR_Pivot Extract_4.4.22_v6.csv\"\n",
    "Pivot_Extract_v3_Apr5=pd.read_csv(Path,header=0)"
   ]
  },
  {
   "cell_type": "code",
   "execution_count": 4,
   "id": "cd5b154f",
   "metadata": {},
   "outputs": [],
   "source": [
    "PE_5=Pivot_Extract_v3_Apr5"
   ]
  },
  {
   "cell_type": "code",
   "execution_count": 5,
   "id": "103e61aa",
   "metadata": {
    "scrolled": true
   },
   "outputs": [],
   "source": [
    "#Code to add new columns in the dataframe with calculations\n",
    "\n",
    "Summation_no_1 = ['Shipping Charge Correction Additional Handling - Length+Girth', 'Shipping Charge Correction Addl. Handling longest side', 'Additional Handling - Length+Girth', 'Returns Additional Handling - Length+Girth', 'Addl. Handling longest side']\n",
    "PE_5['Additional Handling Charge - Dimensions']= PE_5[Summation_no_1].sum(axis=1)\n",
    "\n",
    "Summation_no_2 = ['Returns Addl. Handling weight', 'Shipping Charge Correction Addl. Handling weight', 'Addl. Handling weight']\n",
    "PE_5['Additional Handling Charge - Weight']= PE_5[Summation_no_2].sum(axis=1)\n",
    "\n",
    "Summation_no_3 = ['Same Day Pickup - Web Request', 'Same Day Pickup - Alternate Address - Web Request', 'Future Day Pickup - Alternate Address - Web Request','Return To Sender - Web Request']\n",
    "PE_5['Courier Pickup Charge']= PE_5[Summation_no_3].sum(axis=1)\n",
    "\n",
    "Summation_no_4 = ['Duty and Tax Forwarding Surcharge', 'Chargeback Duty and Tax Forwarding Surcharge']\n",
    "PE_5['Customs Duty']= PE_5[Summation_no_4].sum(axis=1)\n",
    "\n",
    "Summation_no_5 = ['Declared Value', 'Returns Declared Value']\n",
    "PE_5['Declared Value Charge']= PE_5[Summation_no_5].sum(axis=1)\n",
    "\n",
    "Summation_no_6 = ['Delivery Area Surcharge', 'Returns Delivery Area Surcharge']\n",
    "PE_5['Delivery Area Surcharge']= PE_5[Summation_no_6].sum(axis=1)\n",
    "\n",
    "Summation_no_7 = ['Delivery Area Surcharge - Extended', 'Extended Area Surcharge', 'Remote Area Surcharge', 'Remote Area Surcharge-Extended', 'Not Previously Billed Remote Area Surcharge', 'Void Remote Area Surcharge']\n",
    "PE_5['Delivery Area Surcharge - Extended']= PE_5[Summation_no_7].sum(axis=1)\n",
    "\n",
    "Summation_no_8 = ['Delivery Confirmation Response', 'Delivery Confirmation Signature - Commercial', 'Delivery Confirmation Signature', 'Chargeback Delivery Confirmation Response']\n",
    "PE_5['Direct Signature']= PE_5[Summation_no_8].sum(axis=1)\n",
    "\n",
    "Summation_no_9 = ['Early Surcharge', 'Void Early Surcharge']\n",
    "PE_5['Early Surcharge']= PE_5[Summation_no_9].sum(axis=1)\n",
    "\n",
    "Summation_no_10 = ['Returns 1 UPS Pickup Attempt', 'Returns 3 UPS Pickup Attempts']\n",
    "PE_5['COD']= PE_5[Summation_no_10].sum(axis=1)\n",
    "\n",
    "Summation_no_11 = ['Residential Pickup surcharge', 'Not Previously Billed Canada Residential Surcharge', 'Not Previously Billed Peak Surcharge - Residential', 'Not Previously Billed Peak Surcharge - Commercial', 'Not Previously Billed Third Party Billing Service', 'Saturday Processing Fee', 'Chargeback Chargeback Surcharge', 'Shipping Charge Correction Third Party Billing Service', 'Not Previously Billed Residential Surcharge', 'Not Previously Billed Delivery Area Surcharge', 'Not Previously Billed Delivery Area Surcharge - Extended','Not Previously Billed Missing PLD Fee', 'Void Residential Surcharge', 'Chargeback Delivery Area Surcharge', 'Not Previously Billed Saturday Processing Fee','Void Third Party Billing Service', 'Not Previously Billed Delivery Confirmation Signature','Void Delivery Area Surcharge','Not Previously Billed Delivery Confirmation Signature - Commercial', 'Void Declared Value', 'Chargeback Delivery Area Surcharge - Extended', 'Not Previously Billed Early Surcharge', 'Returns Early Surcharge', 'Not Previously Billed Saturday Delivery', 'Void Delivery Area Surcharge - Extended', 'Chargeback Saturday Processing Fee', 'Pickup Area Surcharge', 'Void Delivery Confirmation Signature', 'Void Delivery Confirmation Signature - Commercial', 'Void Addl. Handling weight', 'Void Peak Surcharge - Additional Handling', 'Void Saturday Delivery', 'Direct Delivery Only','Not Previously Billed Declared Value', 'ZONE ADJUSTMENT Additional Handling - Length+Girth','UPS carbon neutral', 'Chargeback Delivery Confirmation Signature - Commercial', 'Not Previously Billed Adult Signature Required', 'Certificate of Origin Preparation Fee','Void Saturday Processing Fee' ]\n",
    "PE_5['Miscellaneous']= PE_5[Summation_no_11].sum(axis=1)\n",
    "\n",
    "Summation_no_12 = ['Large Package Surcharge - Length + Girth', 'Returns Large Package Surcharge - Length + Girth','Returns Peak Surcharge - Large Package','Shipping Charge Correction Large Package Surcharge - Length + Girth', 'Large Package Surcharge Resi  - Length + Girth', 'Shipping Charge Correction Large Package Surcharge Resi']\n",
    "PE_5['Oversize Charge']= PE_5[Summation_no_12].sum(axis=1)\n",
    "\n",
    "Summation_no_13 = ['Peak Surcharge - Additional Handling', 'Shipping Charge Correction Peak Surcharge - Additional Handling','Returns Peak Surcharge - Additional Handling']\n",
    "PE_5['Peak - AHS Charge']= PE_5[Summation_no_13].sum(axis=1)\n",
    "\n",
    "Summation_no_14 = ['Peak Surcharge - Large Package', 'Shipping Charge Correction Peak Surcharge - Large Package']\n",
    "PE_5['Peak - Oversize Charge']= PE_5[Summation_no_14].sum(axis=1)\n",
    "\n",
    "Summation_no_15 = ['Peak Surcharge - Residential', 'Peak Surcharge - Commercial', 'Shipping Charge Correction Peak Surcharge - Commercial', 'Chargeback Peak Surcharge - Commercial']\n",
    "PE_5['Peak Surcharge']= PE_5[Summation_no_15].sum(axis=1)\n",
    "\n",
    "Summation_no_16 = ['Shipping Charge Correction Peak Surcharge - Residential', 'Chargeback Peak Surcharge - Residential']\n",
    "PE_5['Peak Surcharge - Residential']= PE_5[Summation_no_16].sum(axis=1)\n",
    "\n",
    "Summation_no_17 = ['Returns Print Label', 'Returns Electronic Label','Returns Print and Mail Label']\n",
    "PE_5['Print Return Label']= PE_5[Summation_no_17].sum(axis=1)\n",
    "\n",
    "Summation_no_18 = ['Return To Sender - Phone Request', 'Reroute - Phone Request','Reroute - Web Request','Same Day Pickup - Alternate Address - Phone Request']\n",
    "PE_5['Reroute Charge']= PE_5[Summation_no_18].sum(axis=1)\n",
    "\n",
    "Summation_no_19 = ['Residential Surcharge', 'Chargeback Residential Surcharge']\n",
    "PE_5['Residential']= PE_5[Summation_no_19].sum(axis=1)\n",
    "\n",
    "Summation_no_20 = ['Third Party Billing Service']\n",
    "PE_5['Third Party Billing']= PE_5[Summation_no_20].sum(axis=1)\n",
    "\n",
    "PE_6 = PE_5.rename(columns={'Shipping Charge Correction Additional Handling': 'Additional Handling Charge', 'Adult Signature Required': 'Adult Signature', 'Returns Residential Surcharge': 'DAS Resi', 'Electronic Export Information Fee': 'Electronic Export', 'Missing/Invalid Acct No.': 'Missing Account #'})\n"
   ]
  },
  {
   "cell_type": "code",
   "execution_count": 10,
   "id": "52ca35e2",
   "metadata": {},
   "outputs": [
    {
     "data": {
      "text/plain": [
       "Index(['Unnamed: 0', 'Tracking Number', 'Additional Handling - Length+Girth',\n",
       "       'Addl. Handling longest side', 'Addl. Handling weight',\n",
       "       'Adult Signature', 'Certificate of Origin Preparation Fee',\n",
       "       'Chargeback Chargeback Surcharge', 'Chargeback Delivery Area Surcharge',\n",
       "       'Chargeback Delivery Area Surcharge - Extended',\n",
       "       ...\n",
       "       'COD', 'Miscellaneous', 'Oversize Charge', 'Peak - AHS Charge',\n",
       "       'Peak - Oversize Charge', 'Peak Surcharge', 'Print Return Label',\n",
       "       'Reroute Charge', 'Residential', 'Third Party Billing'],\n",
       "      dtype='object', length=123)"
      ]
     },
     "execution_count": 10,
     "metadata": {},
     "output_type": "execute_result"
    }
   ],
   "source": [
    "#Saving CSV to local Machine\n",
    "PE_6.to_csv(\"PE_6.csv\")\n",
    "PE_7=pd.read_csv(\"PE_6.csv\")\n",
    "cols=PE_7.columns\n",
    "cols"
   ]
  },
  {
   "cell_type": "code",
   "execution_count": 11,
   "id": "3368c9e8",
   "metadata": {},
   "outputs": [],
   "source": [
    "#Selecting columns which we want in the output dataframe\n",
    "Selected_Columns=['Tracking Number','Additional Handling Charge - Dimensions','Additional Handling Charge - Weight','Courier Pickup Charge','Customs Duty','Declared Value Charge','Delivery Area Surcharge','Delivery Area Surcharge - Extended','Direct Signature','Early Surcharge','COD','Miscellaneous','Oversize Charge','Peak - AHS Charge','Peak - Oversize Charge','Peak Surcharge','Peak Surcharge - Residential','Print Return Label','Reroute Charge','Residential','Third Party Billing','Additional Handling Charge','Adult Signature','DAS Resi','Electronic Export','Missing Account #','Saturday Delivery']\n",
    "PE_Test=PE_7[Selected_Columns]"
   ]
  },
  {
   "cell_type": "code",
   "execution_count": 12,
   "id": "8ee800f1",
   "metadata": {},
   "outputs": [],
   "source": [
    "#Saving CSV to local Machine\n",
    "PE_Test.to_csv(\"PE_Test_v3.csv\")"
   ]
  },
  {
   "cell_type": "code",
   "execution_count": 13,
   "id": "9356537b",
   "metadata": {},
   "outputs": [],
   "source": [
    "#Saving CSV to local Machine\n",
    "PE_Totals=pd.read_csv(r\"C:\\Users\\Arham\\BR_Pivot Extract_4.4.22_v2.csv\")"
   ]
  },
  {
   "cell_type": "code",
   "execution_count": 14,
   "id": "e9f40cfc",
   "metadata": {},
   "outputs": [],
   "source": [
    "#changing header name for tracking number\n",
    "#PE_6= PE_6.rename(columns={'Tracking Number': 'Tracking No'})\n",
    "PE_Test= PE_Test.rename(columns={'Tracking Number': 'Tracking No'})\n",
    "PE_Totals= PE_Totals.rename(columns={'Tracking Number': 'Tracking No'})\n",
    "\n",
    "#Index Matching Totals Dataframe to Accessorial Dataframe\n",
    "PE_Merged=pd.merge(PE_Test,PE_Totals,on=\"Tracking No\",how=\"left\")"
   ]
  },
  {
   "cell_type": "code",
   "execution_count": 15,
   "id": "1d22e1bf",
   "metadata": {},
   "outputs": [],
   "source": [
    "#Saving CSV to local Machine\n",
    "PE_Merged.to_csv(\"PE Merged 3.csv\")"
   ]
  },
  {
   "cell_type": "code",
   "execution_count": 16,
   "id": "07077eda",
   "metadata": {},
   "outputs": [
    {
     "name": "stderr",
     "output_type": "stream",
     "text": [
      "C:\\Users\\Arham\\anaconda3\\lib\\site-packages\\IPython\\core\\interactiveshell.py:3444: DtypeWarning: Columns (14,24) have mixed types.Specify dtype option on import or set low_memory=False.\n",
      "  exec(code_obj, self.user_global_ns, self.user_ns)\n"
     ]
    }
   ],
   "source": [
    "#Mapping back accessorial to transformed file-1\n",
    "f=r\"C:\\Users\\Arham\\OneDrive - Impendi Analytics\\Personal\\other\\Desktop\\Cleaned Dashboard Ready\\BR_Jan to April_(1 of 4)_cleaned_03.28.csv\"\n",
    "df=pd.read_csv(f,header=0)\n",
    "df.head()\n",
    "\n",
    "df2=pd.merge(df,PE_Merged,on=\"Tracking No\",how=\"left\")\n",
    "df2.to_csv(\"BR_Jan to April_(1 of 4)_v2.csv\")"
   ]
  },
  {
   "cell_type": "code",
   "execution_count": 17,
   "id": "64319ea0",
   "metadata": {},
   "outputs": [],
   "source": [
    "#Mapping back accessorial to transformed file-2\n",
    "f=r\"C:\\Users\\Arham\\OneDrive - Impendi Analytics\\Personal\\other\\Desktop\\Cleaned Dashboard Ready\\BR_Jan to April_(2 of 4)_cleaned_03.28.csv\"\n",
    "df=pd.read_csv(f,header=0)\n",
    "df2=pd.merge(df,PE_Merged,on=\"Tracking No\",how=\"left\")\n",
    "df2.to_csv(\"BR_Jan to April_(2 of 4)_v2.csv\")"
   ]
  },
  {
   "cell_type": "code",
   "execution_count": 18,
   "id": "948d60fc",
   "metadata": {},
   "outputs": [],
   "source": [
    "#Mapping back accessorial to transformed file-3\n",
    "f=r\"C:\\Users\\Arham\\OneDrive - Impendi Analytics\\Personal\\other\\Desktop\\Cleaned Dashboard Ready\\BR_Jan to April (3 of 4)_Cleaned_AA_3.29.22.csv\"\n",
    "df=pd.read_csv(f,header=0)\n",
    "df2=pd.merge(df,PE_Merged,on=\"Tracking No\",how=\"left\")\n",
    "df2.to_csv(\"BR_Jan to April_(3 of 4)_v2.csv\")"
   ]
  },
  {
   "cell_type": "code",
   "execution_count": 19,
   "id": "7fa3bfaf",
   "metadata": {},
   "outputs": [],
   "source": [
    "#Mapping back accessorial to transformed file-4\n",
    "f=r\"C:\\Users\\Arham\\OneDrive - Impendi Analytics\\Personal\\other\\Desktop\\Cleaned Dashboard Ready\\BR_Jan to April (4 of 4)_Cleaned_AA_3.29.22.csv\"\n",
    "df=pd.read_csv(f,header=0)\n",
    "df2=pd.merge(df,PE_Merged,on=\"Tracking No\",how=\"left\")\n",
    "df2.to_csv(\"BR_Jan to April_(4 of 4)_v2.csv\")"
   ]
  },
  {
   "cell_type": "code",
   "execution_count": 20,
   "id": "f5fa2fb2",
   "metadata": {},
   "outputs": [
    {
     "name": "stderr",
     "output_type": "stream",
     "text": [
      "C:\\Users\\Arham\\anaconda3\\lib\\site-packages\\IPython\\core\\interactiveshell.py:3444: DtypeWarning: Columns (14,18,24) have mixed types.Specify dtype option on import or set low_memory=False.\n",
      "  exec(code_obj, self.user_global_ns, self.user_ns)\n"
     ]
    }
   ],
   "source": [
    "#Mapping back accessorial to transformed file-5\n",
    "f=r\"C:\\Users\\Arham\\OneDrive - Impendi Analytics\\Personal\\other\\Desktop\\Cleaned Dashboard Ready\\BR_May-Aug_1 of 2_transformed_03.28.csv\"\n",
    "df=pd.read_csv(f,header=0)\n",
    "df2=pd.merge(df,PE_Merged,on=\"Tracking No\",how=\"left\")\n",
    "df2.to_csv(\"BR_May-Aug_1 of 2_v2.csv\")"
   ]
  },
  {
   "cell_type": "code",
   "execution_count": 21,
   "id": "f4e71c3d",
   "metadata": {},
   "outputs": [],
   "source": [
    "#Mapping back accessorial to transformed file-6\n",
    "f=r\"C:\\Users\\Arham\\OneDrive - Impendi Analytics\\Personal\\other\\Desktop\\Cleaned Dashboard Ready\\BR_May to Aug (2 of 2)_ Cleaned_AA_3.29.22.csv\"\n",
    "df=pd.read_csv(f,header=0)\n",
    "df2=pd.merge(df,PE_Merged,on=\"Tracking No\",how=\"left\")\n",
    "df2.to_csv(\"BR_May-Aug_2 of 2_v2.csv\")"
   ]
  },
  {
   "cell_type": "code",
   "execution_count": 22,
   "id": "ab023b28",
   "metadata": {},
   "outputs": [
    {
     "name": "stderr",
     "output_type": "stream",
     "text": [
      "C:\\Users\\Arham\\anaconda3\\lib\\site-packages\\IPython\\core\\interactiveshell.py:3444: DtypeWarning: Columns (18) have mixed types.Specify dtype option on import or set low_memory=False.\n",
      "  exec(code_obj, self.user_global_ns, self.user_ns)\n"
     ]
    }
   ],
   "source": [
    "#Mapping back accessorial to transformed file-7\n",
    "f=r\"C:\\Users\\Arham\\OneDrive - Impendi Analytics\\Personal\\other\\Desktop\\Cleaned Dashboard Ready\\BR_Sept to Dec_MB.csv\"\n",
    "df=pd.read_csv(f,header=0)\n",
    "df2=pd.merge(df,PE_Merged,on=\"Tracking No\",how=\"left\")\n",
    "df2.to_csv(\"BR_Sept to Dec_v2.csv\")"
   ]
  },
  {
   "cell_type": "code",
   "execution_count": null,
   "id": "db4c596e",
   "metadata": {},
   "outputs": [],
   "source": []
  }
 ],
 "metadata": {
  "kernelspec": {
   "display_name": "Python 3 (ipykernel)",
   "language": "python",
   "name": "python3"
  },
  "language_info": {
   "codemirror_mode": {
    "name": "ipython",
    "version": 3
   },
   "file_extension": ".py",
   "mimetype": "text/x-python",
   "name": "python",
   "nbconvert_exporter": "python",
   "pygments_lexer": "ipython3",
   "version": "3.9.7"
  }
 },
 "nbformat": 4,
 "nbformat_minor": 5
}
