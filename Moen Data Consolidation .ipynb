{
 "cells": [
  {
   "cell_type": "code",
   "execution_count": 1,
   "id": "9f6703c8",
   "metadata": {},
   "outputs": [],
   "source": [
    "#libraries\n",
    "import pandas as pd\n",
    "import numpy as np\n",
    "import os\n",
    "import glob"
   ]
  },
  {
   "cell_type": "code",
   "execution_count": 2,
   "id": "325c0c80",
   "metadata": {},
   "outputs": [],
   "source": [
    "set_output_wd = os.chdir(r'Z:\\Private\\arham.anwar\\LCOE\\Moen Data File Sharing\\Moen Data File Sharing\\Monthly Freight Files')"
   ]
  },
  {
   "cell_type": "code",
   "execution_count": 4,
   "id": "d6582e6d",
   "metadata": {},
   "outputs": [],
   "source": [
    "#%%Merge all csv files residing under defined folder\n",
    "#Folder path\n",
    "\n",
    "# Moen Files\n",
    "all_files = [\n",
    "             r\"Z:\\Private\\arham.anwar\\LCOE\\Moen Data File Sharing\\Moen Data File Sharing\\Monthly Freight Files\\Apr '20 Freight\",\\\n",
    "             r\"Z:\\Private\\arham.anwar\\LCOE\\Moen Data File Sharing\\Moen Data File Sharing\\Monthly Freight Files\\April '21 Freight\",\\\n",
    "             r\"Z:\\Private\\arham.anwar\\LCOE\\Moen Data File Sharing\\Moen Data File Sharing\\Monthly Freight Files\\August '20 Freight\",\\\n",
    "             r\"Z:\\Private\\arham.anwar\\LCOE\\Moen Data File Sharing\\Moen Data File Sharing\\Monthly Freight Files\\August '21 Freight\",\\\n",
    "             r\"Z:\\Private\\arham.anwar\\LCOE\\Moen Data File Sharing\\Moen Data File Sharing\\Monthly Freight Files\\December '20 Freight\",\\\n",
    "             r\"Z:\\Private\\arham.anwar\\LCOE\\Moen Data File Sharing\\Moen Data File Sharing\\Monthly Freight Files\\Feb '20 Freight\",\\\n",
    "             r\"Z:\\Private\\arham.anwar\\LCOE\\Moen Data File Sharing\\Moen Data File Sharing\\Monthly Freight Files\\February '21 Freight\",\\\n",
    "             r\"Z:\\Private\\arham.anwar\\LCOE\\Moen Data File Sharing\\Moen Data File Sharing\\Monthly Freight Files\\Jan '20 Freight\",\\\n",
    "             r\"Z:\\Private\\arham.anwar\\LCOE\\Moen Data File Sharing\\Moen Data File Sharing\\Monthly Freight Files\\January '21 Freight\",\\\n",
    "             r\"Z:\\Private\\arham.anwar\\LCOE\\Moen Data File Sharing\\Moen Data File Sharing\\Monthly Freight Files\\July '20 Freight\",\\\n",
    "             r\"Z:\\Private\\arham.anwar\\LCOE\\Moen Data File Sharing\\Moen Data File Sharing\\Monthly Freight Files\\July '21 Freight\",\\\n",
    "             r\"Z:\\Private\\arham.anwar\\LCOE\\Moen Data File Sharing\\Moen Data File Sharing\\Monthly Freight Files\\Jun '20 Freight \",\\\n",
    "             r\"Z:\\Private\\arham.anwar\\LCOE\\Moen Data File Sharing\\Moen Data File Sharing\\Monthly Freight Files\\June '21 Freight\",\\\n",
    "             r\"Z:\\Private\\arham.anwar\\LCOE\\Moen Data File Sharing\\Moen Data File Sharing\\Monthly Freight Files\\Mar '20 Freight\",\\\n",
    "             r\"Z:\\Private\\arham.anwar\\LCOE\\Moen Data File Sharing\\Moen Data File Sharing\\Monthly Freight Files\\March '21 Freight V2\",\\\n",
    "             r\"Z:\\Private\\arham.anwar\\LCOE\\Moen Data File Sharing\\Moen Data File Sharing\\Monthly Freight Files\\May '20 Freight\",\\\n",
    "             r\"Z:\\Private\\arham.anwar\\LCOE\\Moen Data File Sharing\\Moen Data File Sharing\\Monthly Freight Files\\May '21 Freight\",\\\n",
    "             r\"Z:\\Private\\arham.anwar\\LCOE\\Moen Data File Sharing\\Moen Data File Sharing\\Monthly Freight Files\\Nov '21 Freight\",\\\n",
    "             r\"Z:\\Private\\arham.anwar\\LCOE\\Moen Data File Sharing\\Moen Data File Sharing\\Monthly Freight Files\\November '20 Freight\",\\\n",
    "             r\"Z:\\Private\\arham.anwar\\LCOE\\Moen Data File Sharing\\Moen Data File Sharing\\Monthly Freight Files\\October '20 Freight\",\\\n",
    "             r\"Z:\\Private\\arham.anwar\\LCOE\\Moen Data File Sharing\\Moen Data File Sharing\\Monthly Freight Files\\October '21 Freight V2\",\\\n",
    "             r\"Z:\\Private\\arham.anwar\\LCOE\\Moen Data File Sharing\\Moen Data File Sharing\\Monthly Freight Files\\Sep '21 Freight\",\\\n",
    "             r\"Z:\\Private\\arham.anwar\\LCOE\\Moen Data File Sharing\\Moen Data File Sharing\\Monthly Freight Files\\September '20 Freight\"\n",
    "            ]\n"
   ]
  },
  {
   "cell_type": "code",
   "execution_count": null,
   "id": "d6de7f5f",
   "metadata": {},
   "outputs": [],
   "source": [
    "#consolidate files function\n",
    "\n",
    "def consolidate_all(all_files,preformat_output_filename):\n",
    "\n",
    "    df_from_each_file = []\n",
    "    #controlTotalData = []\n",
    "\n",
    "    for filename in all_files:\n",
    "        df = pd.read_csv(filename, index_col=None, header=0, encoding='utf8') #engine='python')\n",
    "        \n",
    "        #Adding a new column \"source\" for filename\n",
    "        df['source'] = str(filename)\n",
    "        \n",
    "        #Remove spaces from column names\n",
    "        df.columns = df.columns.str.replace(' ', '')\n",
    "        \n",
    "        #Converting \"Liability Amount USD\" to numeric\n",
    "        #df.LiabilityAmountUSD = pd.to_numeric(df.LiabilityAmountUSD)\n",
    "        df['LiabilityAmountUSD'] = df['LiabilityAmountUSD'].astype('float64')\n",
    "        print (str(filename)+ \" ---- \"+str(df.LiabilityAmountUSD.sum()))\n",
    "        df_from_each_file.append(df)\n",
    "        \n",
    "        del df\n",
    "    all_data = pd.concat(df_from_each_file, axis=0, ignore_index=True)\n",
    "    \n",
    "    #list(all_data.columns)"
   ]
  }
 ],
 "metadata": {
  "kernelspec": {
   "display_name": "Python 3 (ipykernel)",
   "language": "python",
   "name": "python3"
  },
  "language_info": {
   "codemirror_mode": {
    "name": "ipython",
    "version": 3
   },
   "file_extension": ".py",
   "mimetype": "text/x-python",
   "name": "python",
   "nbconvert_exporter": "python",
   "pygments_lexer": "ipython3",
   "version": "3.9.7"
  }
 },
 "nbformat": 4,
 "nbformat_minor": 5
}
