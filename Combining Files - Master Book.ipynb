{
 "cells": [
  {
   "cell_type": "code",
   "execution_count": 1,
   "id": "6235c054",
   "metadata": {},
   "outputs": [],
   "source": [
    "#Install Packages\n",
    "\n",
    "from pathlib import Path\n",
    "import pandas as pd\n",
    "import glob\n"
   ]
  },
  {
   "cell_type": "code",
   "execution_count": null,
   "id": "7dc32fe6",
   "metadata": {},
   "outputs": [],
   "source": [
    "path_ = r\"Z:\\Private\\arham.anwar\\LCOE\\Moen Data File Sharing\\Moen Data File Sharing\\Monthly Freight Files\\monthly freight standardized\"\n",
    "\n",
    "for f in Path(path_).glob('*.xlsx'):\n",
    "    dfs = pd.read_excel(f,header=0,sheet_name='GPC TMS OB')\n",
    "    dfs['File Name']=f\n",
    "    \n",
    "\n",
    "df = pd.concat(dfs)"
   ]
  }
 ],
 "metadata": {
  "kernelspec": {
   "display_name": "Python 3 (ipykernel)",
   "language": "python",
   "name": "python3"
  },
  "language_info": {
   "codemirror_mode": {
    "name": "ipython",
    "version": 3
   },
   "file_extension": ".py",
   "mimetype": "text/x-python",
   "name": "python",
   "nbconvert_exporter": "python",
   "pygments_lexer": "ipython3",
   "version": "3.9.7"
  }
 },
 "nbformat": 4,
 "nbformat_minor": 5
}
